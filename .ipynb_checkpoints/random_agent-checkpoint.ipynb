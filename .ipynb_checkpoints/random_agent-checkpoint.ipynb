{
 "cells": [
  {
   "cell_type": "code",
   "execution_count": 1,
   "metadata": {
    "collapsed": true
   },
   "outputs": [],
   "source": [
    "import logging\n",
    "import os\n",
    "import sys\n",
    "import gym\n",
    "from gym import wrappers"
   ]
  },
  {
   "cell_type": "code",
   "execution_count": 2,
   "metadata": {
    "collapsed": true
   },
   "outputs": [],
   "source": [
    "class RandomAgent(object):\n",
    "    def __init__(self, action_space):\n",
    "        self.action_space = action_space\n",
    "    def act(self, observation, reward, done):\n",
    "        return self.action_space.sample()"
   ]
  },
  {
   "cell_type": "code",
   "execution_count": 3,
   "metadata": {},
   "outputs": [
    {
     "name": "stderr",
     "output_type": "stream",
     "text": [
      "[2017-06-24 15:50:13,302] Making new env: CartPole-v0\n",
      "[2017-06-24 15:50:13,328] Clearing 2 monitor files from previous run (because force=True was provided)\n",
      "[2017-06-24 15:50:13,330] Starting new video recorder writing to /Users/ihuangyiran/Documents/Workplace_Python/Try_gym/tmp/random-agent-results/openaigym.video.0.42676.video000000.mp4\n",
      "[2017-06-24 15:50:14,531] Starting new video recorder writing to /Users/ihuangyiran/Documents/Workplace_Python/Try_gym/tmp/random-agent-results/openaigym.video.0.42676.video000001.mp4\n",
      "[2017-06-24 15:50:14,933] Starting new video recorder writing to /Users/ihuangyiran/Documents/Workplace_Python/Try_gym/tmp/random-agent-results/openaigym.video.0.42676.video000008.mp4\n",
      "[2017-06-24 15:50:15,641] Starting new video recorder writing to /Users/ihuangyiran/Documents/Workplace_Python/Try_gym/tmp/random-agent-results/openaigym.video.0.42676.video000027.mp4\n",
      "[2017-06-24 15:50:16,084] Starting new video recorder writing to /Users/ihuangyiran/Documents/Workplace_Python/Try_gym/tmp/random-agent-results/openaigym.video.0.42676.video000064.mp4\n",
      "[2017-06-24 15:50:16,796] Successfully ran RandomAgent.\n"
     ]
    }
   ],
   "source": [
    "if __name__ == '__main__':\n",
    "    logger = logging.getLogger()\n",
    "    logger.setLevel(logging.INFO)\n",
    "    env = gym.make('CartPole-v0')\n",
    "    outdir = './tmp/random-agent-results'\n",
    "    env = wrappers.Monitor(env, outdir, force = True)\n",
    "    agent = RandomAgent(env.action_space)\n",
    "    \n",
    "    episode_count = 100\n",
    "    max_steps = 200\n",
    "    reward = 0\n",
    "    done = False\n",
    "\n",
    "# Note that there's no env.render() here. But the environment\n",
    "# can still open window and render if asked by env.monitor:\n",
    "# it calls env.render('rgb_array') to record video\n",
    "# Video is not recorded every episode, see capped_cubic_video_schedule for details\n",
    "    for i in range(episode_count):\n",
    "        ob = env.reset()\n",
    "        for j in range(max_steps):\n",
    "            action = agent.act(ob, reward, done)\n",
    "            ob, reward, done, _ = env.step(action)\n",
    "            if done:\n",
    "                break\n",
    "    logger.info(\"Successfully ran RandomAgent.\")"
   ]
  },
  {
   "cell_type": "code",
   "execution_count": null,
   "metadata": {
    "collapsed": true
   },
   "outputs": [],
   "source": []
  }
 ],
 "metadata": {
  "kernelspec": {
   "display_name": "Python 3",
   "language": "python",
   "name": "python3"
  },
  "language_info": {
   "codemirror_mode": {
    "name": "ipython",
    "version": 3
   },
   "file_extension": ".py",
   "mimetype": "text/x-python",
   "name": "python",
   "nbconvert_exporter": "python",
   "pygments_lexer": "ipython3",
   "version": "3.6.1"
  }
 },
 "nbformat": 4,
 "nbformat_minor": 2
}
